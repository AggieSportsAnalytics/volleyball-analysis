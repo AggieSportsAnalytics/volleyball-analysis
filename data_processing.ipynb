{
 "cells": [
  {
   "cell_type": "code",
   "execution_count": 133,
   "metadata": {},
   "outputs": [],
   "source": [
    "import pandas as pd\n",
    "import os\n",
    "import numpy as np\n",
    "import regex as re"
   ]
  },
  {
   "cell_type": "code",
   "execution_count": 5,
   "metadata": {},
   "outputs": [],
   "source": [
    "years = ['2016', '2017', '2018', '2019']"
   ]
  },
  {
   "cell_type": "code",
   "execution_count": 375,
   "metadata": {},
   "outputs": [],
   "source": [
    "schools = {}\n",
    "\n",
    "for year in years:\n",
    "    arr = []\n",
    "    for fp in os.listdir(f'raw/{year}/team_stats'):\n",
    "        arr.append(os.path.splitext(fp)[0])\n",
    "    \n",
    "    schools[year] = arr"
   ]
  },
  {
   "cell_type": "code",
   "execution_count": 149,
   "metadata": {},
   "outputs": [],
   "source": [
    "output_dir = 'processed/'"
   ]
  },
  {
   "cell_type": "code",
   "execution_count": 179,
   "metadata": {},
   "outputs": [],
   "source": [
    "def get_opp_team(desc):\n",
    "    for team in desc.split('@'):\n",
    "        if team.strip() in schools:\n",
    "            return team.strip()\n",
    "\n",
    "    return np.nan"
   ]
  },
  {
   "cell_type": "code",
   "execution_count": 181,
   "metadata": {},
   "outputs": [],
   "source": [
    "def reformat_win(desc):\n",
    "    if desc[0] == 'W':\n",
    "        return 1\n",
    "    else:\n",
    "        return 0"
   ]
  },
  {
   "cell_type": "code",
   "execution_count": 216,
   "metadata": {},
   "outputs": [],
   "source": [
    "def convert_height(height):\n",
    "        try:\n",
    "            feet, inches = height.split('-')\n",
    "            return int(feet) * 12 + int(inches)\n",
    "        except ValueError:\n",
    "            return None"
   ]
  },
  {
   "cell_type": "code",
   "execution_count": 377,
   "metadata": {},
   "outputs": [],
   "source": [
    "team_data = {}\n",
    "params = ['Kills', 'Errors', 'Total Attacks', 'Hit Pct', 'Assists', 'Aces',\n",
    "       'SErr', 'Digs', 'RErr', 'Block Solos', 'Block Assists', 'BErr', 'PTS',\n",
    "       'BHE']\n",
    "       \n",
    "for year in years:\n",
    "    year_data = {}\n",
    "    for fp in os.listdir(f'raw/{year}/team_stats'):\n",
    "        s = os.path.splitext(fp)[0].strip()\n",
    "        team_df = pd.read_csv(f'raw/{year}/team_stats/{fp}')\n",
    "\n",
    "        year_data[s] = {}\n",
    "\n",
    "        for param in params:\n",
    "            year_data[s][f'Avg {param}'] = round(team_df.loc[team_df[param] != '-'][param].mean(), 2)\n",
    "            year_data[s][f'Avg Height'] = round(team_df.loc[team_df['Ht'] != '-']['Ht'].apply(convert_height).mean(), 2)\n",
    "    team_data[year] = year_data"
   ]
  },
  {
   "cell_type": "code",
   "execution_count": 374,
   "metadata": {},
   "outputs": [
    {
     "data": {
      "text/plain": [
       "False"
      ]
     },
     "execution_count": 374,
     "metadata": {},
     "output_type": "execute_result"
    }
   ],
   "source": [
    "team_data['2016'].keys() == team_data['2017'].keys()"
   ]
  },
  {
   "cell_type": "code",
   "execution_count": 325,
   "metadata": {},
   "outputs": [],
   "source": [
    "def get_team_b_data(team_b):\n",
    "    return team_data[team_b]"
   ]
  },
  {
   "cell_type": "code",
   "execution_count": 326,
   "metadata": {},
   "outputs": [],
   "source": [
    "feature_cols = []\n",
    "for param in params:\n",
    "    feature_cols.append(f'Team A {param}')\n",
    "    feature_cols.append(f'Team B {param}')"
   ]
  },
  {
   "cell_type": "code",
   "execution_count": 384,
   "metadata": {},
   "outputs": [],
   "source": [
    "for year in years:\n",
    "    for fp in os.listdir(f'raw/{year}/team_game_by_game'):\n",
    "        s = re.sub(r'\\([^)]*\\)', '', os.path.splitext(fp)[0]).strip()\n",
    "        df = pd.read_csv(f'raw/{year}/team_game_by_game/{fp}')\n",
    "\n",
    "        df.columns = df.iloc[0].values\n",
    "        df = df[1:]\n",
    "        df.reset_index(inplace=True)\n",
    "        df.drop(['index'], axis = 1, inplace=True)\n",
    "        df = pd.DataFrame(df, columns=df.columns[:-1])\n",
    "\n",
    "        def get_opp_team(desc):\n",
    "            for team in desc.split('@'):\n",
    "                if team.strip() in schools[year]:\n",
    "                    return team.strip()\n",
    "\n",
    "            return np.nan\n",
    "\n",
    "        df['Opp'] = df['Opponent'].apply(get_opp_team)\n",
    "\n",
    "        df.dropna(subset=['Opp'], inplace=True)\n",
    "        df.fillna(0, inplace=True)\n",
    "        df.rename({'S': 'Sets'}, axis=1, inplace=True)\n",
    "        df['Result'] = df['Result'].apply(reformat_win)\n",
    "\n",
    "        for param in params:\n",
    "            df[f'Team A {param}'] = round(team_data[year][s][f'Avg {param}'], 2)\n",
    "            df[f'Team B {param}'] = round(df['Opp'].apply(lambda x: team_data[year][x][f'Avg {param}']), 2)\n",
    "        \n",
    "        df.drop(['Date', 'MP', \"Opponent\", 'Opp'], axis=1, inplace=True)\n",
    "        \n",
    "        cols = df.columns.to_list()\n",
    "        cols = cols[16:] + cols[0:16]\n",
    "\n",
    "        df = df[cols]\n",
    "\n",
    "        df.to_csv(f'{output_dir}/{year}/{s}.csv', index=False)"
   ]
  }
 ],
 "metadata": {
  "kernelspec": {
   "display_name": "Python 3",
   "language": "python",
   "name": "python3"
  },
  "language_info": {
   "codemirror_mode": {
    "name": "ipython",
    "version": 3
   },
   "file_extension": ".py",
   "mimetype": "text/x-python",
   "name": "python",
   "nbconvert_exporter": "python",
   "pygments_lexer": "ipython3",
   "version": "3.10.6"
  }
 },
 "nbformat": 4,
 "nbformat_minor": 2
}
