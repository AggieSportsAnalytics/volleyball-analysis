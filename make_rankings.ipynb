{
 "cells": [
  {
   "cell_type": "code",
   "execution_count": 1,
   "metadata": {},
   "outputs": [],
   "source": [
    "import pandas as pd"
   ]
  },
  {
   "cell_type": "code",
   "execution_count": 2,
   "metadata": {},
   "outputs": [],
   "source": [
    "attack_cols = ['Kills', 'Errors', 'Total Attacks', 'Hit Pct', 'Aces', 'SErr', 'BHE', 'Assists']\n",
    "defense_cols = ['Digs', 'RErr', 'Block Solos', 'Block Assists', 'BErr', 'RErr']\n",
    "set_cols = ['Assists', 'SErr']\n",
    "general_cols = ['PTS', 'Ht', 'Pos', 'Yr', 'MP', 'MS', 'Player']\n",
    "error_cols = ['Errors', 'RErr', 'SErr', 'BErr', 'BHE']"
   ]
  },
  {
   "cell_type": "code",
   "execution_count": null,
   "metadata": {},
   "outputs": [],
   "source": []
  }
 ],
 "metadata": {
  "kernelspec": {
   "display_name": "Python 3",
   "language": "python",
   "name": "python3"
  },
  "language_info": {
   "codemirror_mode": {
    "name": "ipython",
    "version": 3
   },
   "file_extension": ".py",
   "mimetype": "text/x-python",
   "name": "python",
   "nbconvert_exporter": "python",
   "pygments_lexer": "ipython3",
   "version": "3.10.6"
  }
 },
 "nbformat": 4,
 "nbformat_minor": 2
}
