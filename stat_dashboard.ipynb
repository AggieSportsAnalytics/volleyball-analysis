{
 "cells": [
  {
   "cell_type": "code",
   "execution_count": 26,
   "metadata": {},
   "outputs": [],
   "source": [
    "import pandas as pd\n",
    "import os\n",
    "import json"
   ]
  },
  {
   "cell_type": "code",
   "execution_count": 2,
   "metadata": {},
   "outputs": [],
   "source": [
    "years = ['2016', '2017', '2018', '2019']"
   ]
  },
  {
   "cell_type": "code",
   "execution_count": 38,
   "metadata": {},
   "outputs": [],
   "source": [
    "rosters = {}\n",
    "\n",
    "for year in years:\n",
    "    rosters[year] = {}\n",
    "    for fp in os.listdir(f'raw/{year}/team_stats'):\n",
    "        school = os.path.splitext(fp)[0]\n",
    "\n",
    "        \n",
    "        \n",
    "        df = pd.read_csv(f'raw/{year}/team_stats/{fp}')\n",
    "        df.drop(['GP', 'GS', 'S', 'MP', 'MS', 'Attend'], axis=1, inplace=True, errors='ignore')\n",
    "\n",
    "        df.fillna(0, inplace=True)\n",
    "        df = df.round(2)\n",
    "\n",
    "        df = df[~df['Player'].isin(['TEAM', 'Totals', 'Opponent Totals'])]\n",
    "\n",
    "        df['Ht'].replace('-', '5-7', inplace=True)\n",
    "\n",
    "        stat_dict = df.to_dict(orient='records')\n",
    "\n",
    "        rosters[year][school] = stat_dict\n"
   ]
  },
  {
   "cell_type": "code",
   "execution_count": 39,
   "metadata": {},
   "outputs": [],
   "source": [
    "with open('flask-server/data/rosters.json', 'w') as f:\n",
    "    json.dump(rosters, f)"
   ]
  },
  {
   "cell_type": "code",
   "execution_count": 44,
   "metadata": {},
   "outputs": [],
   "source": [
    "with open('flask-server/data/rankings.json', 'r') as f:\n",
    "        rankings = json.load(f)"
   ]
  },
  {
   "cell_type": "code",
   "execution_count": 48,
   "metadata": {},
   "outputs": [
    {
     "data": {
      "text/plain": [
       "327"
      ]
     },
     "execution_count": 48,
     "metadata": {},
     "output_type": "execute_result"
    }
   ],
   "source": [
    "len(rankings['2016']['Kills'])"
   ]
  },
  {
   "cell_type": "code",
   "execution_count": null,
   "metadata": {},
   "outputs": [],
   "source": []
  }
 ],
 "metadata": {
  "kernelspec": {
   "display_name": "Python 3",
   "language": "python",
   "name": "python3"
  },
  "language_info": {
   "codemirror_mode": {
    "name": "ipython",
    "version": 3
   },
   "file_extension": ".py",
   "mimetype": "text/x-python",
   "name": "python",
   "nbconvert_exporter": "python",
   "pygments_lexer": "ipython3",
   "version": "3.10.6"
  }
 },
 "nbformat": 4,
 "nbformat_minor": 2
}
