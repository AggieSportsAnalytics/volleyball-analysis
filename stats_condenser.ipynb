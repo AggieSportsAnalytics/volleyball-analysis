{
 "cells": [
  {
   "cell_type": "code",
   "execution_count": 29,
   "metadata": {},
   "outputs": [],
   "source": [
    "import pandas as pd\n",
    "import os\n",
    "import json"
   ]
  },
  {
   "cell_type": "code",
   "execution_count": 9,
   "metadata": {},
   "outputs": [],
   "source": [
    "years = ['2016', '2017', '2018', '2019']"
   ]
  },
  {
   "cell_type": "code",
   "execution_count": 27,
   "metadata": {},
   "outputs": [],
   "source": [
    "team_stats = {}\n",
    "\n",
    "for year in years:\n",
    "    team_stats[year] = {}\n",
    "    for fp in os.listdir(f'processed/{year}'):\n",
    "        school = os.path.splitext(fp)[0]\n",
    "\n",
    "        df = pd.read_csv(f'processed/{year}/{school}.csv')\n",
    "        cols = [col.replace('Team A ', '') for col in df.columns if 'team a' in col.lower()]\n",
    "\n",
    "        team_stats[year][school] = df[cols].iloc[0].to_dict()\n",
    "        "
   ]
  },
  {
   "cell_type": "code",
   "execution_count": 30,
   "metadata": {},
   "outputs": [],
   "source": [
    "with open('flask-server/data/team_stats.json', 'w') as f:\n",
    "    json.dump(team_stats, f)"
   ]
  }
 ],
 "metadata": {
  "kernelspec": {
   "display_name": "Python 3",
   "language": "python",
   "name": "python3"
  },
  "language_info": {
   "codemirror_mode": {
    "name": "ipython",
    "version": 3
   },
   "file_extension": ".py",
   "mimetype": "text/x-python",
   "name": "python",
   "nbconvert_exporter": "python",
   "pygments_lexer": "ipython3",
   "version": "3.10.6"
  }
 },
 "nbformat": 4,
 "nbformat_minor": 2
}
