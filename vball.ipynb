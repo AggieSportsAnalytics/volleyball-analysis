{
 "cells": [
  {
   "cell_type": "code",
   "execution_count": 59,
   "metadata": {},
   "outputs": [],
   "source": [
    "import pandas as pd\n",
    "import numpy as np\n",
    "import os"
   ]
  },
  {
   "cell_type": "code",
   "execution_count": 70,
   "metadata": {},
   "outputs": [],
   "source": [
    "import os\n",
    "\n",
    "directory_arr = ['raw/2016/team_stats/', 'raw/2017/team_stats/', 'raw/2018/team_stats/', 'raw/2019/team_stats/']\n",
    "\n",
    "dfs = []\n",
    "\n",
    "cat_cols = ['Yr', 'Pos']\n",
    "\n",
    "for directory in directory_arr:\n",
    "    team_dfs = {}\n",
    "    for entry in os.scandir(directory):\n",
    "        if entry.is_file() and entry.name.endswith('.csv'):\n",
    "            key = entry.name.replace('.csv', '')\n",
    "            formatted_key = f'df_{key.replace(\" \", \"\").replace(\".\", \"\").replace(\"-\", \"\")}'\n",
    "            \n",
    "            team_dfs[formatted_key] = pd.read_csv(entry.path)\n",
    "\n",
    "    def convert_height(height):\n",
    "        try:\n",
    "            feet, inches = height.split('-')\n",
    "            return int(feet) * 12 + int(inches)\n",
    "        except ValueError:\n",
    "            return None\n",
    "\n",
    "    for key in team_dfs:\n",
    "        team_dfs[key]['Ht'] = team_dfs[key]['Ht'].apply(convert_height)\n",
    "        team_dfs[key] = team_dfs[key ].drop(['Jersey', 'GP', 'GS', 'Trpl Dbl'], axis=1)\n",
    "        team_dfs[key] = team_dfs[key].fillna(0)\n",
    "        team_dfs[key][cat_cols] = team_dfs[key][cat_cols].astype('category')\n",
    "\n",
    "    dfs.append(team_dfs)"
   ]
  }
 ],
 "metadata": {
  "kernelspec": {
   "display_name": "Python 3",
   "language": "python",
   "name": "python3"
  },
  "language_info": {
   "codemirror_mode": {
    "name": "ipython",
    "version": 3
   },
   "file_extension": ".py",
   "mimetype": "text/x-python",
   "name": "python",
   "nbconvert_exporter": "python",
   "pygments_lexer": "ipython3",
   "version": "3.10.6"
  }
 },
 "nbformat": 4,
 "nbformat_minor": 2
}
